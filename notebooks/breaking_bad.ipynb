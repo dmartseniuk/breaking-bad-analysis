{
  "cells": [
    {
      "cell_type": "markdown",
      "metadata": {},
      "source": [
        "# Breaking Bad Data Analysis\n",
        "In this notebook, we will explore episode ratings from the critically acclaimed TV series Breaking Bad. Using descriptive statistics and data visualization, we’ll analyze trends in episode performance, and identify standout episodes. Let's dive into the numbers behind this iconic show!"
      ]
    },
    {
      "cell_type": "markdown",
      "metadata": {},
      "source": [
        "## Table of Contents\n",
        "\n",
        "1. [Loading the Data and Necessary Libraries](#Loading-data-and-necessary-libraries)\n",
        "4. [Data Cleaning](#Data-Cleaning)\n",
        "5. [Descriptive Statistics of Episodes Data](#Descriptive-Statistics-of-Episodes-Data)\n",
        "   - [Statistics of All Episodes](#Statistics-of-All-Episodes)\n",
        "   - [Grouped Statistics of Each Season](#Grouped-Statistics-of-Each-Season)\n",
        "7. [Best and Worst Episodes](#Best-and-Worst-Episodes)\n",
        "8. [Shortest and Longest Seasons](#Shortest-and-Longest-Seasons)\n",
        "9. [Data Visualization](#Data-Visualization)\n",
        "    - [Line Plot](#Line-Plot)\n",
        "    - [Bar Chart](#Bar-Chart)\n",
        "    - [Histogram](#Histogram)\n",
        "    - [Box Plot](#Box-Plot)\n",
        "    - [Scatter Plot](#Scatter-Plot)\n",
        "11. [Conclusion](#Conclusion)"
      ]
    },
    {
      "cell_type": "markdown",
      "metadata": {},
      "source": [
        "## Loading data and necessary libraries"
      ]
    },
    {
      "cell_type": "code",
      "execution_count": 31,
      "metadata": {
        "trusted": true
      },
      "outputs": [
        {
          "name": "stdout",
          "output_type": "stream",
          "text": [
            "Requirement already satisfied: pandas in /Users/dianamartseniuk/Documents/breaking-bad-analysis/.conda/lib/python3.11/site-packages (2.2.3)\n",
            "Requirement already satisfied: matplotlib in /Users/dianamartseniuk/Documents/breaking-bad-analysis/.conda/lib/python3.11/site-packages (3.9.2)\n",
            "Requirement already satisfied: numpy>=1.23.2 in /Users/dianamartseniuk/Documents/breaking-bad-analysis/.conda/lib/python3.11/site-packages (from pandas) (2.1.2)\n",
            "Requirement already satisfied: python-dateutil>=2.8.2 in /Users/dianamartseniuk/Documents/breaking-bad-analysis/.conda/lib/python3.11/site-packages (from pandas) (2.9.0)\n",
            "Requirement already satisfied: pytz>=2020.1 in /Users/dianamartseniuk/Documents/breaking-bad-analysis/.conda/lib/python3.11/site-packages (from pandas) (2024.2)\n",
            "Requirement already satisfied: tzdata>=2022.7 in /Users/dianamartseniuk/Documents/breaking-bad-analysis/.conda/lib/python3.11/site-packages (from pandas) (2024.2)\n",
            "Requirement already satisfied: contourpy>=1.0.1 in /Users/dianamartseniuk/Documents/breaking-bad-analysis/.conda/lib/python3.11/site-packages (from matplotlib) (1.3.0)\n",
            "Requirement already satisfied: cycler>=0.10 in /Users/dianamartseniuk/Documents/breaking-bad-analysis/.conda/lib/python3.11/site-packages (from matplotlib) (0.12.1)\n",
            "Requirement already satisfied: fonttools>=4.22.0 in /Users/dianamartseniuk/Documents/breaking-bad-analysis/.conda/lib/python3.11/site-packages (from matplotlib) (4.54.1)\n",
            "Requirement already satisfied: kiwisolver>=1.3.1 in /Users/dianamartseniuk/Documents/breaking-bad-analysis/.conda/lib/python3.11/site-packages (from matplotlib) (1.4.7)\n",
            "Requirement already satisfied: packaging>=20.0 in /Users/dianamartseniuk/Documents/breaking-bad-analysis/.conda/lib/python3.11/site-packages (from matplotlib) (24.1)\n",
            "Requirement already satisfied: pillow>=8 in /Users/dianamartseniuk/Documents/breaking-bad-analysis/.conda/lib/python3.11/site-packages (from matplotlib) (11.0.0)\n",
            "Requirement already satisfied: pyparsing>=2.3.1 in /Users/dianamartseniuk/Documents/breaking-bad-analysis/.conda/lib/python3.11/site-packages (from matplotlib) (3.2.0)\n",
            "Requirement already satisfied: six>=1.5 in /Users/dianamartseniuk/Documents/breaking-bad-analysis/.conda/lib/python3.11/site-packages (from python-dateutil>=2.8.2->pandas) (1.16.0)\n",
            "Note: you may need to restart the kernel to use updated packages.\n"
          ]
        }
      ],
      "source": [
        "# If you're running this notebook locally and don't have the required libraries installed, uncomment the following lines to install them:\n",
        "# %pip install pandas matplotlib"
      ]
    },
    {
      "cell_type": "code",
      "execution_count": 6,
      "metadata": {
        "trusted": true
      },
      "outputs": [],
      "source": [
        "import numpy as np\n",
        "import pandas as pd\n",
        "import matplotlib.pyplot as plt\n",
        "import matplotlib as mpl"
      ]
    },
    {
      "cell_type": "code",
      "execution_count": 10,
      "metadata": {
        "scrolled": true,
        "trusted": true
      },
      "outputs": [
        {
          "data": {
            "text/html": [
              "<div>\n",
              "<style scoped>\n",
              "    .dataframe tbody tr th:only-of-type {\n",
              "        vertical-align: middle;\n",
              "    }\n",
              "\n",
              "    .dataframe tbody tr th {\n",
              "        vertical-align: top;\n",
              "    }\n",
              "\n",
              "    .dataframe thead th {\n",
              "        text-align: right;\n",
              "    }\n",
              "</style>\n",
              "<table border=\"1\" class=\"dataframe\">\n",
              "  <thead>\n",
              "    <tr style=\"text-align: right;\">\n",
              "      <th></th>\n",
              "      <th>Date</th>\n",
              "      <th>Season</th>\n",
              "      <th>Episode</th>\n",
              "      <th>Title</th>\n",
              "      <th>Directed by</th>\n",
              "      <th>Written by</th>\n",
              "      <th>Duration_mins</th>\n",
              "      <th>Summary</th>\n",
              "      <th>Rating_IMDB</th>\n",
              "      <th>U.S. viewers_million</th>\n",
              "    </tr>\n",
              "  </thead>\n",
              "  <tbody>\n",
              "    <tr>\n",
              "      <th>0</th>\n",
              "      <td>20-Jan-08</td>\n",
              "      <td>1</td>\n",
              "      <td>1</td>\n",
              "      <td>Pilot</td>\n",
              "      <td>Vince Gilligan</td>\n",
              "      <td>Vince Gilligan</td>\n",
              "      <td>58</td>\n",
              "      <td>Diagnosed with terminal lung cancer, chemistry...</td>\n",
              "      <td>9.1</td>\n",
              "      <td>1.41</td>\n",
              "    </tr>\n",
              "    <tr>\n",
              "      <th>1</th>\n",
              "      <td>27-Jan-08</td>\n",
              "      <td>1</td>\n",
              "      <td>2</td>\n",
              "      <td>Cat's in the Bag...</td>\n",
              "      <td>Adam Bernstein</td>\n",
              "      <td>Vince Gilligan</td>\n",
              "      <td>48</td>\n",
              "      <td>After their first drug deal goes terribly wron...</td>\n",
              "      <td>8.7</td>\n",
              "      <td>1.49</td>\n",
              "    </tr>\n",
              "    <tr>\n",
              "      <th>2</th>\n",
              "      <td>10-Feb-08</td>\n",
              "      <td>1</td>\n",
              "      <td>3</td>\n",
              "      <td>...And the Bag's in the River</td>\n",
              "      <td>Adam Bernstein</td>\n",
              "      <td>Vince Gilligan</td>\n",
              "      <td>48</td>\n",
              "      <td>Walt and Jesse clean up after the bathtub inci...</td>\n",
              "      <td>8.8</td>\n",
              "      <td>1.08</td>\n",
              "    </tr>\n",
              "    <tr>\n",
              "      <th>3</th>\n",
              "      <td>17-Feb-08</td>\n",
              "      <td>1</td>\n",
              "      <td>4</td>\n",
              "      <td>Cancer Man</td>\n",
              "      <td>Jim McKay</td>\n",
              "      <td>Vince Gilligan</td>\n",
              "      <td>48</td>\n",
              "      <td>Walt tells the rest of his family about his ca...</td>\n",
              "      <td>8.3</td>\n",
              "      <td>1.09</td>\n",
              "    </tr>\n",
              "    <tr>\n",
              "      <th>4</th>\n",
              "      <td>24-Feb-08</td>\n",
              "      <td>1</td>\n",
              "      <td>5</td>\n",
              "      <td>Gray Matter</td>\n",
              "      <td>Tricia Brock</td>\n",
              "      <td>Vince Gilligan, Patty Lin</td>\n",
              "      <td>48</td>\n",
              "      <td>Walt rejects everyone who tries to help him wi...</td>\n",
              "      <td>8.4</td>\n",
              "      <td>0.97</td>\n",
              "    </tr>\n",
              "  </tbody>\n",
              "</table>\n",
              "</div>"
            ],
            "text/plain": [
              "        Date  Season  Episode                          Title     Directed by  \\\n",
              "0  20-Jan-08       1        1                          Pilot  Vince Gilligan   \n",
              "1  27-Jan-08       1        2            Cat's in the Bag...  Adam Bernstein   \n",
              "2  10-Feb-08       1        3  ...And the Bag's in the River  Adam Bernstein   \n",
              "3  17-Feb-08       1        4                     Cancer Man       Jim McKay   \n",
              "4  24-Feb-08       1        5                    Gray Matter    Tricia Brock   \n",
              "\n",
              "                  Written by  Duration_mins  \\\n",
              "0             Vince Gilligan             58   \n",
              "1             Vince Gilligan             48   \n",
              "2             Vince Gilligan             48   \n",
              "3             Vince Gilligan             48   \n",
              "4  Vince Gilligan, Patty Lin             48   \n",
              "\n",
              "                                             Summary  Rating_IMDB  \\\n",
              "0  Diagnosed with terminal lung cancer, chemistry...          9.1   \n",
              "1  After their first drug deal goes terribly wron...          8.7   \n",
              "2  Walt and Jesse clean up after the bathtub inci...          8.8   \n",
              "3  Walt tells the rest of his family about his ca...          8.3   \n",
              "4  Walt rejects everyone who tries to help him wi...          8.4   \n",
              "\n",
              "   U.S. viewers_million  \n",
              "0                  1.41  \n",
              "1                  1.49  \n",
              "2                  1.08  \n",
              "3                  1.09  \n",
              "4                  0.97  "
            ]
          },
          "execution_count": 10,
          "metadata": {},
          "output_type": "execute_result"
        }
      ],
      "source": [
        "# Load data \n",
        "# (csv file from https://www.kaggle.com/datasets/varpit94/breaking-bad-tv-show-all-seasons-episodes-data/data)\n",
        "df = pd.read_csv(\"../data/breaking_bad.csv\",  encoding='latin-1')\n",
        "df.head()"
      ]
    },
    {
      "cell_type": "markdown",
      "metadata": {},
      "source": [
        "## Data Cleaning"
      ]
    },
    {
      "cell_type": "code",
      "execution_count": 11,
      "metadata": {
        "trusted": true
      },
      "outputs": [
        {
          "data": {
            "text/plain": [
              "Date                    False\n",
              "Season                  False\n",
              "Episode                 False\n",
              "Title                   False\n",
              "Directed by             False\n",
              "Written by              False\n",
              "Duration_mins           False\n",
              "Summary                 False\n",
              "Rating_IMDB             False\n",
              "U.S. viewers_million     True\n",
              "dtype: bool"
            ]
          },
          "execution_count": 11,
          "metadata": {},
          "output_type": "execute_result"
        }
      ],
      "source": [
        "# Look for NaN values and determine in which columns they appear\n",
        "df.isnull().any()"
      ]
    },
    {
      "cell_type": "markdown",
      "metadata": {},
      "source": [
        "Before we move on to the analysis, we're removing the viewership data because some values are missing, and it isn't clear how the data was collected. To ensure more reliable analysis, the focus is placed on IMDb ratings instead."
      ]
    },
    {
      "cell_type": "code",
      "execution_count": 12,
      "metadata": {
        "trusted": true
      },
      "outputs": [
        {
          "data": {
            "text/html": [
              "<div>\n",
              "<style scoped>\n",
              "    .dataframe tbody tr th:only-of-type {\n",
              "        vertical-align: middle;\n",
              "    }\n",
              "\n",
              "    .dataframe tbody tr th {\n",
              "        vertical-align: top;\n",
              "    }\n",
              "\n",
              "    .dataframe thead th {\n",
              "        text-align: right;\n",
              "    }\n",
              "</style>\n",
              "<table border=\"1\" class=\"dataframe\">\n",
              "  <thead>\n",
              "    <tr style=\"text-align: right;\">\n",
              "      <th></th>\n",
              "      <th>Season</th>\n",
              "      <th>Episode</th>\n",
              "      <th>Title</th>\n",
              "      <th>Duration_mins</th>\n",
              "      <th>Rating_IMDB</th>\n",
              "    </tr>\n",
              "  </thead>\n",
              "  <tbody>\n",
              "    <tr>\n",
              "      <th>0</th>\n",
              "      <td>1</td>\n",
              "      <td>1</td>\n",
              "      <td>Pilot</td>\n",
              "      <td>58</td>\n",
              "      <td>9.1</td>\n",
              "    </tr>\n",
              "    <tr>\n",
              "      <th>1</th>\n",
              "      <td>1</td>\n",
              "      <td>2</td>\n",
              "      <td>Cat's in the Bag...</td>\n",
              "      <td>48</td>\n",
              "      <td>8.7</td>\n",
              "    </tr>\n",
              "    <tr>\n",
              "      <th>2</th>\n",
              "      <td>1</td>\n",
              "      <td>3</td>\n",
              "      <td>...And the Bag's in the River</td>\n",
              "      <td>48</td>\n",
              "      <td>8.8</td>\n",
              "    </tr>\n",
              "    <tr>\n",
              "      <th>3</th>\n",
              "      <td>1</td>\n",
              "      <td>4</td>\n",
              "      <td>Cancer Man</td>\n",
              "      <td>48</td>\n",
              "      <td>8.3</td>\n",
              "    </tr>\n",
              "    <tr>\n",
              "      <th>4</th>\n",
              "      <td>1</td>\n",
              "      <td>5</td>\n",
              "      <td>Gray Matter</td>\n",
              "      <td>48</td>\n",
              "      <td>8.4</td>\n",
              "    </tr>\n",
              "  </tbody>\n",
              "</table>\n",
              "</div>"
            ],
            "text/plain": [
              "   Season  Episode                          Title  Duration_mins  Rating_IMDB\n",
              "0       1        1                          Pilot             58          9.1\n",
              "1       1        2            Cat's in the Bag...             48          8.7\n",
              "2       1        3  ...And the Bag's in the River             48          8.8\n",
              "3       1        4                     Cancer Man             48          8.3\n",
              "4       1        5                    Gray Matter             48          8.4"
            ]
          },
          "execution_count": 12,
          "metadata": {},
          "output_type": "execute_result"
        }
      ],
      "source": [
        "# Leave the columns needed for the further analysis\n",
        "df = df[[\"Season\", \"Episode\", \"Title\", \"Duration_mins\", \"Rating_IMDB\"]]\n",
        "df.head()"
      ]
    },
    {
      "cell_type": "markdown",
      "metadata": {
        "editable": true,
        "slideshow": {
          "slide_type": ""
        },
        "tags": []
      },
      "source": [
        "## Descriptive Statistics of Episodes Data\n",
        "In this section, we provide a detailed summary of the episode data, including statistics like IMDb ratings and episode durations across all seasons. We also break down these statistics by individual seasons, offering a clearer view of how these key metrics change from season to season. This helps us understand the general trends and differences in episode characteristics throughout the series."
      ]
    },
    {
      "cell_type": "markdown",
      "metadata": {},
      "source": [
        "### Statistics of All Episodes\n",
        "The dataset reveals that the average episode duration is approximately 47.9 minutes, with episodes ranging from 43 to 60 minutes. Most episodes fall close to the 47-minute mark. In terms of ratings, the show maintains a strong performance, averaging an IMDb rating of 9.02. Ratings vary between 7.8 and a perfect 10, with half of the episodes scoring above 8.9, demonstrating the show's consistent success."
      ]
    },
    {
      "cell_type": "code",
      "execution_count": 13,
      "metadata": {
        "trusted": true
      },
      "outputs": [
        {
          "data": {
            "text/html": [
              "<div>\n",
              "<style scoped>\n",
              "    .dataframe tbody tr th:only-of-type {\n",
              "        vertical-align: middle;\n",
              "    }\n",
              "\n",
              "    .dataframe tbody tr th {\n",
              "        vertical-align: top;\n",
              "    }\n",
              "\n",
              "    .dataframe thead th {\n",
              "        text-align: right;\n",
              "    }\n",
              "</style>\n",
              "<table border=\"1\" class=\"dataframe\">\n",
              "  <thead>\n",
              "    <tr style=\"text-align: right;\">\n",
              "      <th></th>\n",
              "      <th>Duration_mins</th>\n",
              "      <th>Rating_IMDB</th>\n",
              "    </tr>\n",
              "  </thead>\n",
              "  <tbody>\n",
              "    <tr>\n",
              "      <th>count</th>\n",
              "      <td>62.000000</td>\n",
              "      <td>62.000000</td>\n",
              "    </tr>\n",
              "    <tr>\n",
              "      <th>mean</th>\n",
              "      <td>47.919355</td>\n",
              "      <td>9.022581</td>\n",
              "    </tr>\n",
              "    <tr>\n",
              "      <th>std</th>\n",
              "      <td>2.632074</td>\n",
              "      <td>0.511962</td>\n",
              "    </tr>\n",
              "    <tr>\n",
              "      <th>min</th>\n",
              "      <td>43.000000</td>\n",
              "      <td>7.800000</td>\n",
              "    </tr>\n",
              "    <tr>\n",
              "      <th>25%</th>\n",
              "      <td>47.000000</td>\n",
              "      <td>8.700000</td>\n",
              "    </tr>\n",
              "    <tr>\n",
              "      <th>50%</th>\n",
              "      <td>47.000000</td>\n",
              "      <td>8.900000</td>\n",
              "    </tr>\n",
              "    <tr>\n",
              "      <th>75%</th>\n",
              "      <td>48.000000</td>\n",
              "      <td>9.450000</td>\n",
              "    </tr>\n",
              "    <tr>\n",
              "      <th>max</th>\n",
              "      <td>60.000000</td>\n",
              "      <td>10.000000</td>\n",
              "    </tr>\n",
              "  </tbody>\n",
              "</table>\n",
              "</div>"
            ],
            "text/plain": [
              "       Duration_mins  Rating_IMDB\n",
              "count      62.000000    62.000000\n",
              "mean       47.919355     9.022581\n",
              "std         2.632074     0.511962\n",
              "min        43.000000     7.800000\n",
              "25%        47.000000     8.700000\n",
              "50%        47.000000     8.900000\n",
              "75%        48.000000     9.450000\n",
              "max        60.000000    10.000000"
            ]
          },
          "execution_count": 13,
          "metadata": {},
          "output_type": "execute_result"
        }
      ],
      "source": [
        "df.iloc[:, 3:].describe()"
      ]
    },
    {
      "cell_type": "markdown",
      "metadata": {},
      "source": [
        "### Grouped Statistics of Each Season"
      ]
    },
    {
      "cell_type": "code",
      "execution_count": 14,
      "metadata": {
        "trusted": true
      },
      "outputs": [],
      "source": [
        "# Group data by season\n",
        "grouped = df.groupby(\"Season\")"
      ]
    },
    {
      "cell_type": "code",
      "execution_count": 15,
      "metadata": {
        "trusted": true
      },
      "outputs": [
        {
          "data": {
            "text/html": [
              "<div>\n",
              "<style scoped>\n",
              "    .dataframe tbody tr th:only-of-type {\n",
              "        vertical-align: middle;\n",
              "    }\n",
              "\n",
              "    .dataframe tbody tr th {\n",
              "        vertical-align: top;\n",
              "    }\n",
              "\n",
              "    .dataframe thead tr th {\n",
              "        text-align: left;\n",
              "    }\n",
              "\n",
              "    .dataframe thead tr:last-of-type th {\n",
              "        text-align: right;\n",
              "    }\n",
              "</style>\n",
              "<table border=\"1\" class=\"dataframe\">\n",
              "  <thead>\n",
              "    <tr>\n",
              "      <th></th>\n",
              "      <th colspan=\"8\" halign=\"left\">Duration_mins</th>\n",
              "    </tr>\n",
              "    <tr>\n",
              "      <th></th>\n",
              "      <th>count</th>\n",
              "      <th>mean</th>\n",
              "      <th>std</th>\n",
              "      <th>min</th>\n",
              "      <th>25%</th>\n",
              "      <th>50%</th>\n",
              "      <th>75%</th>\n",
              "      <th>max</th>\n",
              "    </tr>\n",
              "    <tr>\n",
              "      <th>Season</th>\n",
              "      <th></th>\n",
              "      <th></th>\n",
              "      <th></th>\n",
              "      <th></th>\n",
              "      <th></th>\n",
              "      <th></th>\n",
              "      <th></th>\n",
              "      <th></th>\n",
              "    </tr>\n",
              "  </thead>\n",
              "  <tbody>\n",
              "    <tr>\n",
              "      <th>1</th>\n",
              "      <td>7.0</td>\n",
              "      <td>49.428571</td>\n",
              "      <td>3.779645</td>\n",
              "      <td>48.0</td>\n",
              "      <td>48.0</td>\n",
              "      <td>48.0</td>\n",
              "      <td>48.0</td>\n",
              "      <td>58.0</td>\n",
              "    </tr>\n",
              "    <tr>\n",
              "      <th>2</th>\n",
              "      <td>13.0</td>\n",
              "      <td>47.000000</td>\n",
              "      <td>0.408248</td>\n",
              "      <td>46.0</td>\n",
              "      <td>47.0</td>\n",
              "      <td>47.0</td>\n",
              "      <td>47.0</td>\n",
              "      <td>48.0</td>\n",
              "    </tr>\n",
              "    <tr>\n",
              "      <th>3</th>\n",
              "      <td>13.0</td>\n",
              "      <td>47.000000</td>\n",
              "      <td>0.000000</td>\n",
              "      <td>47.0</td>\n",
              "      <td>47.0</td>\n",
              "      <td>47.0</td>\n",
              "      <td>47.0</td>\n",
              "      <td>47.0</td>\n",
              "    </tr>\n",
              "    <tr>\n",
              "      <th>4</th>\n",
              "      <td>13.0</td>\n",
              "      <td>48.230769</td>\n",
              "      <td>3.767268</td>\n",
              "      <td>45.0</td>\n",
              "      <td>47.0</td>\n",
              "      <td>47.0</td>\n",
              "      <td>47.0</td>\n",
              "      <td>60.0</td>\n",
              "    </tr>\n",
              "    <tr>\n",
              "      <th>5</th>\n",
              "      <td>16.0</td>\n",
              "      <td>48.500000</td>\n",
              "      <td>2.828427</td>\n",
              "      <td>43.0</td>\n",
              "      <td>48.0</td>\n",
              "      <td>48.0</td>\n",
              "      <td>48.0</td>\n",
              "      <td>55.0</td>\n",
              "    </tr>\n",
              "  </tbody>\n",
              "</table>\n",
              "</div>"
            ],
            "text/plain": [
              "       Duration_mins                                                   \n",
              "               count       mean       std   min   25%   50%   75%   max\n",
              "Season                                                                 \n",
              "1                7.0  49.428571  3.779645  48.0  48.0  48.0  48.0  58.0\n",
              "2               13.0  47.000000  0.408248  46.0  47.0  47.0  47.0  48.0\n",
              "3               13.0  47.000000  0.000000  47.0  47.0  47.0  47.0  47.0\n",
              "4               13.0  48.230769  3.767268  45.0  47.0  47.0  47.0  60.0\n",
              "5               16.0  48.500000  2.828427  43.0  48.0  48.0  48.0  55.0"
            ]
          },
          "execution_count": 15,
          "metadata": {},
          "output_type": "execute_result"
        }
      ],
      "source": [
        "# Statistics for the column \"Duration_mins\"\n",
        "grouped[[\"Duration_mins\"]].describe()"
      ]
    },
    {
      "cell_type": "markdown",
      "metadata": {},
      "source": [
        "For episode durations, Season 1 stands out with the longest average at 49.43 minutes and the most variation. Seasons 2 and 3 are consistent at 47 minutes, while Season 4 introduces more variety, ranging from 45 to 60 minutes. Season 5 averages 48.5 minutes with episodes between 43 and 55 minutes."
      ]
    },
    {
      "cell_type": "code",
      "execution_count": 16,
      "metadata": {
        "trusted": true
      },
      "outputs": [
        {
          "data": {
            "text/html": [
              "<div>\n",
              "<style scoped>\n",
              "    .dataframe tbody tr th:only-of-type {\n",
              "        vertical-align: middle;\n",
              "    }\n",
              "\n",
              "    .dataframe tbody tr th {\n",
              "        vertical-align: top;\n",
              "    }\n",
              "\n",
              "    .dataframe thead tr th {\n",
              "        text-align: left;\n",
              "    }\n",
              "\n",
              "    .dataframe thead tr:last-of-type th {\n",
              "        text-align: right;\n",
              "    }\n",
              "</style>\n",
              "<table border=\"1\" class=\"dataframe\">\n",
              "  <thead>\n",
              "    <tr>\n",
              "      <th></th>\n",
              "      <th colspan=\"8\" halign=\"left\">Rating_IMDB</th>\n",
              "    </tr>\n",
              "    <tr>\n",
              "      <th></th>\n",
              "      <th>count</th>\n",
              "      <th>mean</th>\n",
              "      <th>std</th>\n",
              "      <th>min</th>\n",
              "      <th>25%</th>\n",
              "      <th>50%</th>\n",
              "      <th>75%</th>\n",
              "      <th>max</th>\n",
              "    </tr>\n",
              "    <tr>\n",
              "      <th>Season</th>\n",
              "      <th></th>\n",
              "      <th></th>\n",
              "      <th></th>\n",
              "      <th></th>\n",
              "      <th></th>\n",
              "      <th></th>\n",
              "      <th></th>\n",
              "      <th></th>\n",
              "    </tr>\n",
              "  </thead>\n",
              "  <tbody>\n",
              "    <tr>\n",
              "      <th>1</th>\n",
              "      <td>7.0</td>\n",
              "      <td>8.785714</td>\n",
              "      <td>0.357904</td>\n",
              "      <td>8.3</td>\n",
              "      <td>8.550</td>\n",
              "      <td>8.80</td>\n",
              "      <td>9.0</td>\n",
              "      <td>9.3</td>\n",
              "    </tr>\n",
              "    <tr>\n",
              "      <th>2</th>\n",
              "      <td>13.0</td>\n",
              "      <td>8.861538</td>\n",
              "      <td>0.373136</td>\n",
              "      <td>8.3</td>\n",
              "      <td>8.600</td>\n",
              "      <td>8.90</td>\n",
              "      <td>9.2</td>\n",
              "      <td>9.3</td>\n",
              "    </tr>\n",
              "    <tr>\n",
              "      <th>3</th>\n",
              "      <td>13.0</td>\n",
              "      <td>8.807692</td>\n",
              "      <td>0.560449</td>\n",
              "      <td>7.8</td>\n",
              "      <td>8.500</td>\n",
              "      <td>8.70</td>\n",
              "      <td>9.3</td>\n",
              "      <td>9.7</td>\n",
              "    </tr>\n",
              "    <tr>\n",
              "      <th>4</th>\n",
              "      <td>13.0</td>\n",
              "      <td>9.023077</td>\n",
              "      <td>0.561477</td>\n",
              "      <td>8.1</td>\n",
              "      <td>8.700</td>\n",
              "      <td>8.90</td>\n",
              "      <td>9.5</td>\n",
              "      <td>9.9</td>\n",
              "    </tr>\n",
              "    <tr>\n",
              "      <th>5</th>\n",
              "      <td>16.0</td>\n",
              "      <td>9.431250</td>\n",
              "      <td>0.364635</td>\n",
              "      <td>8.9</td>\n",
              "      <td>9.175</td>\n",
              "      <td>9.55</td>\n",
              "      <td>9.7</td>\n",
              "      <td>10.0</td>\n",
              "    </tr>\n",
              "  </tbody>\n",
              "</table>\n",
              "</div>"
            ],
            "text/plain": [
              "       Rating_IMDB                                                 \n",
              "             count      mean       std  min    25%   50%  75%   max\n",
              "Season                                                             \n",
              "1              7.0  8.785714  0.357904  8.3  8.550  8.80  9.0   9.3\n",
              "2             13.0  8.861538  0.373136  8.3  8.600  8.90  9.2   9.3\n",
              "3             13.0  8.807692  0.560449  7.8  8.500  8.70  9.3   9.7\n",
              "4             13.0  9.023077  0.561477  8.1  8.700  8.90  9.5   9.9\n",
              "5             16.0  9.431250  0.364635  8.9  9.175  9.55  9.7  10.0"
            ]
          },
          "execution_count": 16,
          "metadata": {},
          "output_type": "execute_result"
        }
      ],
      "source": [
        "# Statistics for the column \"Rating_IMDB\"\n",
        "grouped[[\"Rating_IMDB\"]].describe()"
      ]
    },
    {
      "cell_type": "markdown",
      "metadata": {},
      "source": [
        "IMDb ratings show a steady increase over the seasons. Season 1 begins at 8.79, and Season 2 maintains a similar level at 8.86. After a small drop in Season 3, ratings rise to 9.02 in Season 4, with Season 5 reaching an impressive 9.43, even hitting a perfect 10."
      ]
    },
    {
      "cell_type": "markdown",
      "metadata": {},
      "source": [
        "## Best and Worst Episodes"
      ]
    },
    {
      "cell_type": "code",
      "execution_count": 17,
      "metadata": {
        "trusted": true
      },
      "outputs": [
        {
          "data": {
            "text/html": [
              "<div>\n",
              "<style scoped>\n",
              "    .dataframe tbody tr th:only-of-type {\n",
              "        vertical-align: middle;\n",
              "    }\n",
              "\n",
              "    .dataframe tbody tr th {\n",
              "        vertical-align: top;\n",
              "    }\n",
              "\n",
              "    .dataframe thead th {\n",
              "        text-align: right;\n",
              "    }\n",
              "</style>\n",
              "<table border=\"1\" class=\"dataframe\">\n",
              "  <thead>\n",
              "    <tr style=\"text-align: right;\">\n",
              "      <th></th>\n",
              "      <th>Title</th>\n",
              "    </tr>\n",
              "  </thead>\n",
              "  <tbody>\n",
              "    <tr>\n",
              "      <th>59</th>\n",
              "      <td>Ozymandias</td>\n",
              "    </tr>\n",
              "  </tbody>\n",
              "</table>\n",
              "</div>"
            ],
            "text/plain": [
              "         Title\n",
              "59  Ozymandias"
            ]
          },
          "execution_count": 17,
          "metadata": {},
          "output_type": "execute_result"
        }
      ],
      "source": [
        "# Find title of the best episode\n",
        "max_rating = float(df[[\"Rating_IMDB\"]].max().iloc[0])\n",
        "best_episode = df.loc[df[\"Rating_IMDB\"] == max_rating][[\"Title\"]]\n",
        "best_episode"
      ]
    },
    {
      "cell_type": "code",
      "execution_count": 18,
      "metadata": {
        "trusted": true
      },
      "outputs": [
        {
          "data": {
            "text/html": [
              "<div>\n",
              "<style scoped>\n",
              "    .dataframe tbody tr th:only-of-type {\n",
              "        vertical-align: middle;\n",
              "    }\n",
              "\n",
              "    .dataframe tbody tr th {\n",
              "        vertical-align: top;\n",
              "    }\n",
              "\n",
              "    .dataframe thead th {\n",
              "        text-align: right;\n",
              "    }\n",
              "</style>\n",
              "<table border=\"1\" class=\"dataframe\">\n",
              "  <thead>\n",
              "    <tr style=\"text-align: right;\">\n",
              "      <th></th>\n",
              "      <th>Title</th>\n",
              "    </tr>\n",
              "  </thead>\n",
              "  <tbody>\n",
              "    <tr>\n",
              "      <th>29</th>\n",
              "      <td>Fly</td>\n",
              "    </tr>\n",
              "  </tbody>\n",
              "</table>\n",
              "</div>"
            ],
            "text/plain": [
              "   Title\n",
              "29   Fly"
            ]
          },
          "execution_count": 18,
          "metadata": {},
          "output_type": "execute_result"
        }
      ],
      "source": [
        "# Find title of the worst episode\n",
        "min_rating = float(df[[\"Rating_IMDB\"]].min().iloc[0])\n",
        "worst_episode = df.loc[df[\"Rating_IMDB\"] == min_rating][[\"Title\"]]\n",
        "worst_episode"
      ]
    },
    {
      "cell_type": "markdown",
      "metadata": {},
      "source": [
        "## Shortest and Longest Seasons"
      ]
    },
    {
      "cell_type": "code",
      "execution_count": 19,
      "metadata": {
        "trusted": true
      },
      "outputs": [
        {
          "data": {
            "text/html": [
              "<div>\n",
              "<style scoped>\n",
              "    .dataframe tbody tr th:only-of-type {\n",
              "        vertical-align: middle;\n",
              "    }\n",
              "\n",
              "    .dataframe tbody tr th {\n",
              "        vertical-align: top;\n",
              "    }\n",
              "\n",
              "    .dataframe thead th {\n",
              "        text-align: right;\n",
              "    }\n",
              "</style>\n",
              "<table border=\"1\" class=\"dataframe\">\n",
              "  <thead>\n",
              "    <tr style=\"text-align: right;\">\n",
              "      <th></th>\n",
              "      <th>Duration_mins</th>\n",
              "    </tr>\n",
              "    <tr>\n",
              "      <th>Season</th>\n",
              "      <th></th>\n",
              "    </tr>\n",
              "  </thead>\n",
              "  <tbody>\n",
              "    <tr>\n",
              "      <th>1</th>\n",
              "      <td>346</td>\n",
              "    </tr>\n",
              "    <tr>\n",
              "      <th>2</th>\n",
              "      <td>611</td>\n",
              "    </tr>\n",
              "    <tr>\n",
              "      <th>3</th>\n",
              "      <td>611</td>\n",
              "    </tr>\n",
              "    <tr>\n",
              "      <th>4</th>\n",
              "      <td>627</td>\n",
              "    </tr>\n",
              "    <tr>\n",
              "      <th>5</th>\n",
              "      <td>776</td>\n",
              "    </tr>\n",
              "  </tbody>\n",
              "</table>\n",
              "</div>"
            ],
            "text/plain": [
              "        Duration_mins\n",
              "Season               \n",
              "1                 346\n",
              "2                 611\n",
              "3                 611\n",
              "4                 627\n",
              "5                 776"
            ]
          },
          "execution_count": 19,
          "metadata": {},
          "output_type": "execute_result"
        }
      ],
      "source": [
        "# Table with the sum of duration for ech season\n",
        "time_sums = grouped[[\"Duration_mins\"]].sum()\n",
        "time_sums"
      ]
    },
    {
      "cell_type": "code",
      "execution_count": 20,
      "metadata": {
        "trusted": true
      },
      "outputs": [
        {
          "data": {
            "text/html": [
              "<div>\n",
              "<style scoped>\n",
              "    .dataframe tbody tr th:only-of-type {\n",
              "        vertical-align: middle;\n",
              "    }\n",
              "\n",
              "    .dataframe tbody tr th {\n",
              "        vertical-align: top;\n",
              "    }\n",
              "\n",
              "    .dataframe thead th {\n",
              "        text-align: right;\n",
              "    }\n",
              "</style>\n",
              "<table border=\"1\" class=\"dataframe\">\n",
              "  <thead>\n",
              "    <tr style=\"text-align: right;\">\n",
              "      <th></th>\n",
              "      <th>Duration_mins</th>\n",
              "    </tr>\n",
              "    <tr>\n",
              "      <th>Season</th>\n",
              "      <th></th>\n",
              "    </tr>\n",
              "  </thead>\n",
              "  <tbody>\n",
              "    <tr>\n",
              "      <th>5</th>\n",
              "      <td>776</td>\n",
              "    </tr>\n",
              "  </tbody>\n",
              "</table>\n",
              "</div>"
            ],
            "text/plain": [
              "        Duration_mins\n",
              "Season               \n",
              "5                 776"
            ]
          },
          "execution_count": 20,
          "metadata": {},
          "output_type": "execute_result"
        }
      ],
      "source": [
        "# Find the longest season\n",
        "max_time = grouped[[\"Duration_mins\"]].sum().max().iloc[0]\n",
        "longest_season = time_sums.loc[time_sums[\"Duration_mins\"] == max_time]\n",
        "longest_season"
      ]
    },
    {
      "cell_type": "code",
      "execution_count": 21,
      "metadata": {
        "trusted": true
      },
      "outputs": [
        {
          "data": {
            "text/html": [
              "<div>\n",
              "<style scoped>\n",
              "    .dataframe tbody tr th:only-of-type {\n",
              "        vertical-align: middle;\n",
              "    }\n",
              "\n",
              "    .dataframe tbody tr th {\n",
              "        vertical-align: top;\n",
              "    }\n",
              "\n",
              "    .dataframe thead th {\n",
              "        text-align: right;\n",
              "    }\n",
              "</style>\n",
              "<table border=\"1\" class=\"dataframe\">\n",
              "  <thead>\n",
              "    <tr style=\"text-align: right;\">\n",
              "      <th></th>\n",
              "      <th>Duration_mins</th>\n",
              "    </tr>\n",
              "    <tr>\n",
              "      <th>Season</th>\n",
              "      <th></th>\n",
              "    </tr>\n",
              "  </thead>\n",
              "  <tbody>\n",
              "    <tr>\n",
              "      <th>1</th>\n",
              "      <td>346</td>\n",
              "    </tr>\n",
              "  </tbody>\n",
              "</table>\n",
              "</div>"
            ],
            "text/plain": [
              "        Duration_mins\n",
              "Season               \n",
              "1                 346"
            ]
          },
          "execution_count": 21,
          "metadata": {},
          "output_type": "execute_result"
        }
      ],
      "source": [
        "# Find the shortest season\n",
        "min_time = grouped[[\"Duration_mins\"]].sum().min().iloc[0]\n",
        "longest_season = time_sums.loc[time_sums[\"Duration_mins\"] == min_time]\n",
        "longest_season"
      ]
    },
    {
      "cell_type": "markdown",
      "metadata": {},
      "source": [
        "## Data Visualization"
      ]
    },
    {
      "cell_type": "markdown",
      "metadata": {},
      "source": [
        "### Line Plot"
      ]
    },
    {
      "cell_type": "code",
      "execution_count": 22,
      "metadata": {
        "trusted": true
      },
      "outputs": [
        {
          "data": {
            "image/png": "[encoded data removed]",
            "text/plain": [
              "<Figure size 640x480 with 1 Axes>"
            ]
          },
          "metadata": {},
          "output_type": "display_data"
        }
      ],
      "source": [
        "plt.plot(df[[\"Rating_IMDB\"]])\n",
        "\n",
        "# Add labels to the axes\n",
        "plt.xlabel(\"Episode\")\n",
        "plt.ylabel(\"IMDB Rating\")\n",
        "plt.title(\"Ratings of All Episodes\")\n",
        "\n",
        "plt.show()"
      ]
    },
    {
      "cell_type": "code",
      "execution_count": 23,
      "metadata": {
        "trusted": true
      },
      "outputs": [
        {
          "data": {
            "image/png": "[encoded data removed]",
            "text/plain": [
              "<Figure size 640x480 with 1 Axes>"
            ]
          },
          "metadata": {},
          "output_type": "display_data"
        }
      ],
      "source": [
        "plt.plot(df[[\"Rating_IMDB\"]])\n",
        "plt.ylim(0, 10)\n",
        "\n",
        "# Add labels to the axes\n",
        "plt.xlabel(\"Episode\")\n",
        "plt.ylabel(\"IMDB Rating\")\n",
        "plt.title(\"Ratings of All Episodes with a Wider Context\")\n",
        "\n",
        "plt.show()"
      ]
    },
    {
      "cell_type": "markdown",
      "metadata": {},
      "source": [
        "In the first plot, we see the IMDB ratings for all episodes in a detailed view, focusing on a smaller range from 8.0 to 10.0. This makes the ups and downs in ratings between episodes more noticeable. Some episodes clearly stand out as higher or lower in ratings, but overall, there is an upward trend as the show moves forward.\n",
        "\n",
        "The second plot shows the same ratings but on a wider scale, with the y-axis starting from 0. Even though the ratings still range between 8.0 and 10.0, this makes the differences between episodes look smaller. It gives a sense of more consistent performance, showing that even the lowest-rated episodes were still rated fairly well."
      ]
    },
    {
      "cell_type": "markdown",
      "metadata": {},
      "source": [
        "### Bar Chart\n",
        "This bar chart highlights the top five rated episodes of Breaking Bad. Leading the list is 'Ozymandias,' reflecting its standout performance based on IMDB ratings from our earlier analysis."
      ]
    },
    {
      "cell_type": "code",
      "execution_count": 24,
      "metadata": {
        "trusted": true
      },
      "outputs": [
        {
          "data": {
            "image/png": "[encoded data removed]",
            "text/plain": [
              "<Figure size 800x500 with 1 Axes>"
            ]
          },
          "metadata": {},
          "output_type": "display_data"
        }
      ],
      "source": [
        "# Sort and take top 5\n",
        "df_top_rated = df[[\"Title\", \"Rating_IMDB\"]]\n",
        "df_top_rated = df_top_rated.sort_values(by='Rating_IMDB', ascending=False).head(5)\n",
        "\n",
        "# Plotting\n",
        "plt.figure(figsize=(8, 5))\n",
        "plt.barh(df_top_rated[\"Title\"], df_top_rated[\"Rating_IMDB\"], color='skyblue')\n",
        "plt.xlabel(\"Rating\")\n",
        "plt.ylabel(\"Episode\")\n",
        "plt.title(\"Top 5 Highest Rated Episodes\")\n",
        "plt.grid(True)\n",
        "\n",
        "plt.show()"
      ]
    },
    {
      "cell_type": "markdown",
      "metadata": {},
      "source": [
        "### Histogram\n",
        "This histogram represents the distribution of IMDb ratings across all Breaking Bad episodes. We can see a multimodal pattern with three prominent peaks: between 9.12–9.34 (the highest peak with 12 episodes), a smaller cluster around 9.56–9.78, and another notable rise around 8.24–8.46. The distribution is slightly skewed to the right, indicating that most episodes received high ratings, with the majority of episodes scoring between 8.9 and 9.34. The few lower-rated episodes stand out at the left end, with the lowest rating being 7.8."
      ]
    },
    {
      "cell_type": "code",
      "execution_count": 25,
      "metadata": {
        "trusted": true
      },
      "outputs": [
        {
          "data": {
            "image/png": "[encoded data removed]",
            "text/plain": [
              "<Figure size 800x600 with 1 Axes>"
            ]
          },
          "metadata": {},
          "output_type": "display_data"
        }
      ],
      "source": [
        "fig, ax = plt.subplots(figsize=(8, 6))\n",
        "\n",
        "# Plotting\n",
        "counts, bins = np.histogram(df[[\"Rating_IMDB\"]])\n",
        "n, bins, patches = plt.hist(bins[:-1], bins, weights=counts, color='skyblue', edgecolor='black')\n",
        "\n",
        "# Show counts on theh top of each bar\n",
        "for i in range(len(bins) - 1):\n",
        "    if n[i] > 0:\n",
        "        plt.text(bins[i] + (bins[1] - bins[0]) / 2, n[i] + 0.1, str(int(n[i])), fontsize=10, ha='center')\n",
        "\n",
        "# Arrange ticks for bins \n",
        "ax.set_xticks(np.arange(bins[0], bins[-1], bins[1] - bins[0]))\n",
        "\n",
        "# Add labels to the axes\n",
        "plt.xlabel(\"IMDB Rating\")\n",
        "plt.ylabel(\"Frequency Count\")\n",
        "plt.title(\"Distribution of Ratings\")\n",
        "\n",
        "plt.show()"
      ]
    },
    {
      "cell_type": "markdown",
      "metadata": {},
      "source": [
        "### Box Plot\n",
        "The box plots highlight the distribution of IMDb ratings across the five seasons of Breaking Bad. Seasons 1, 2, and 5 show more consistent ratings, with tighter interquartile ranges (the boxes) and fewer outliers, indicating viewers’ scores were more uniform. On the other hand, Seasons 3 and 4 had the widest spread in ratings, indicating more variability in how the episodes were received. Season 3, in particular, has the largest range, stretching from 8.0 to almost 10.0, while Season 4 also has a broad range but clusters more toward the higher ratings."
      ]
    },
    {
      "cell_type": "code",
      "execution_count": 26,
      "metadata": {
        "trusted": true
      },
      "outputs": [
        {
          "data": {
            "image/png": "[encoded data removed]",
            "text/plain": [
              "<Figure size 640x480 with 1 Axes>"
            ]
          },
          "metadata": {},
          "output_type": "display_data"
        }
      ],
      "source": [
        "# Plotting\n",
        "df[[\"Season\", \"Rating_IMDB\"]].boxplot(by=\"Season\", showmeans=True)\n",
        "\n",
        "# Add labels to the axes and give the title to the plot\n",
        "plt.xlabel(\"Season\")\n",
        "plt.ylabel(\"IMDB Rating\")\n",
        "plt.title(\"Distributions of Ratings Across the Seasons\")\n",
        "plt.suptitle(\"\")\n",
        "\n",
        "plt.show()"
      ]
    },
    {
      "cell_type": "markdown",
      "metadata": {},
      "source": [
        "### Scatter Plot\n",
        "Interestingly, there doesn't seem to be a strong correlation between longer episodes and higher ratings. Some of the most highly-rated episodes fall within the typical 47-48 minute range."
      ]
    },
    {
      "cell_type": "code",
      "execution_count": 27,
      "metadata": {
        "trusted": true
      },
      "outputs": [
        {
          "ename": "ValueError",
          "evalue": "Unable to determine Axes to steal space for Colorbar. Either provide the *cax* argument to use as the Axes for the Colorbar, provide the *ax* argument to steal space from it, or add *mappable* to an Axes.",
          "output_type": "error",
          "traceback": [
            "\u001b[0;31m---------------------------------------------------------------------------\u001b[0m",
            "\u001b[0;31mValueError\u001b[0m                                Traceback (most recent call last)",
            "Cell \u001b[0;32mIn[27], line 20\u001b[0m\n\u001b[1;32m     17\u001b[0m norm \u001b[38;5;241m=\u001b[39m mpl\u001b[38;5;241m.\u001b[39mcolors\u001b[38;5;241m.\u001b[39mNormalize(vmin\u001b[38;5;241m=\u001b[39mnp\u001b[38;5;241m.\u001b[39mmin(c) \u001b[38;5;241m-\u001b[39m \u001b[38;5;241m0.5\u001b[39m, vmax\u001b[38;5;241m=\u001b[39mnp\u001b[38;5;241m.\u001b[39mmax(c) \u001b[38;5;241m+\u001b[39m \u001b[38;5;241m0.5\u001b[39m)\n\u001b[1;32m     19\u001b[0m \u001b[38;5;66;03m# Colorbar to assign colors \u001b[39;00m\n\u001b[0;32m---> 20\u001b[0m \u001b[43mplt\u001b[49m\u001b[38;5;241;43m.\u001b[39;49m\u001b[43mcolorbar\u001b[49m\u001b[43m(\u001b[49m\u001b[43mmpl\u001b[49m\u001b[38;5;241;43m.\u001b[39;49m\u001b[43mcm\u001b[49m\u001b[38;5;241;43m.\u001b[39;49m\u001b[43mScalarMappable\u001b[49m\u001b[43m(\u001b[49m\u001b[43mnorm\u001b[49m\u001b[38;5;241;43m=\u001b[39;49m\u001b[43mnorm\u001b[49m\u001b[43m,\u001b[49m\u001b[43m \u001b[49m\u001b[43mcmap\u001b[49m\u001b[38;5;241;43m=\u001b[39;49m\u001b[43mcmap\u001b[49m\u001b[43m)\u001b[49m\u001b[43m,\u001b[49m\u001b[43m \u001b[49m\u001b[43mlabel\u001b[49m\u001b[38;5;241;43m=\u001b[39;49m\u001b[38;5;124;43m\"\u001b[39;49m\u001b[38;5;124;43mSeason\u001b[39;49m\u001b[38;5;124;43m\"\u001b[39;49m\u001b[43m)\u001b[49m\n\u001b[1;32m     21\u001b[0m plt\u001b[38;5;241m.\u001b[39mtitle(\u001b[38;5;124m\"\u001b[39m\u001b[38;5;124mCorrelation between Ratings and Duration of the Episodes\u001b[39m\u001b[38;5;124m\"\u001b[39m)\n\u001b[1;32m     23\u001b[0m plt\u001b[38;5;241m.\u001b[39mshow()\n",
            "File \u001b[0;32m~/Documents/breaking-bad-analysis/.conda/lib/python3.11/site-packages/matplotlib/pyplot.py:2516\u001b[0m, in \u001b[0;36mcolorbar\u001b[0;34m(mappable, cax, ax, **kwargs)\u001b[0m\n\u001b[1;32m   2511\u001b[0m     \u001b[38;5;28;01mif\u001b[39;00m mappable \u001b[38;5;129;01mis\u001b[39;00m \u001b[38;5;28;01mNone\u001b[39;00m:\n\u001b[1;32m   2512\u001b[0m         \u001b[38;5;28;01mraise\u001b[39;00m \u001b[38;5;167;01mRuntimeError\u001b[39;00m(\u001b[38;5;124m'\u001b[39m\u001b[38;5;124mNo mappable was found to use for colorbar \u001b[39m\u001b[38;5;124m'\u001b[39m\n\u001b[1;32m   2513\u001b[0m                            \u001b[38;5;124m'\u001b[39m\u001b[38;5;124mcreation. First define a mappable such as \u001b[39m\u001b[38;5;124m'\u001b[39m\n\u001b[1;32m   2514\u001b[0m                            \u001b[38;5;124m'\u001b[39m\u001b[38;5;124man image (with imshow) or a contour set (\u001b[39m\u001b[38;5;124m'\u001b[39m\n\u001b[1;32m   2515\u001b[0m                            \u001b[38;5;124m'\u001b[39m\u001b[38;5;124mwith contourf).\u001b[39m\u001b[38;5;124m'\u001b[39m)\n\u001b[0;32m-> 2516\u001b[0m ret \u001b[38;5;241m=\u001b[39m \u001b[43mgcf\u001b[49m\u001b[43m(\u001b[49m\u001b[43m)\u001b[49m\u001b[38;5;241;43m.\u001b[39;49m\u001b[43mcolorbar\u001b[49m\u001b[43m(\u001b[49m\u001b[43mmappable\u001b[49m\u001b[43m,\u001b[49m\u001b[43m \u001b[49m\u001b[43mcax\u001b[49m\u001b[38;5;241;43m=\u001b[39;49m\u001b[43mcax\u001b[49m\u001b[43m,\u001b[49m\u001b[43m \u001b[49m\u001b[43max\u001b[49m\u001b[38;5;241;43m=\u001b[39;49m\u001b[43max\u001b[49m\u001b[43m,\u001b[49m\u001b[43m \u001b[49m\u001b[38;5;241;43m*\u001b[39;49m\u001b[38;5;241;43m*\u001b[39;49m\u001b[43mkwargs\u001b[49m\u001b[43m)\u001b[49m\n\u001b[1;32m   2517\u001b[0m \u001b[38;5;28;01mreturn\u001b[39;00m ret\n",
            "File \u001b[0;32m~/Documents/breaking-bad-analysis/.conda/lib/python3.11/site-packages/matplotlib/figure.py:1215\u001b[0m, in \u001b[0;36mFigureBase.colorbar\u001b[0;34m(self, mappable, cax, ax, use_gridspec, **kwargs)\u001b[0m\n\u001b[1;32m   1213\u001b[0m \u001b[38;5;28;01mif\u001b[39;00m cax \u001b[38;5;129;01mis\u001b[39;00m \u001b[38;5;28;01mNone\u001b[39;00m:\n\u001b[1;32m   1214\u001b[0m     \u001b[38;5;28;01mif\u001b[39;00m ax \u001b[38;5;129;01mis\u001b[39;00m \u001b[38;5;28;01mNone\u001b[39;00m:\n\u001b[0;32m-> 1215\u001b[0m         \u001b[38;5;28;01mraise\u001b[39;00m \u001b[38;5;167;01mValueError\u001b[39;00m(\n\u001b[1;32m   1216\u001b[0m             \u001b[38;5;124m'\u001b[39m\u001b[38;5;124mUnable to determine Axes to steal space for Colorbar. \u001b[39m\u001b[38;5;124m'\u001b[39m\n\u001b[1;32m   1217\u001b[0m             \u001b[38;5;124m'\u001b[39m\u001b[38;5;124mEither provide the *cax* argument to use as the Axes for \u001b[39m\u001b[38;5;124m'\u001b[39m\n\u001b[1;32m   1218\u001b[0m             \u001b[38;5;124m'\u001b[39m\u001b[38;5;124mthe Colorbar, provide the *ax* argument to steal space \u001b[39m\u001b[38;5;124m'\u001b[39m\n\u001b[1;32m   1219\u001b[0m             \u001b[38;5;124m'\u001b[39m\u001b[38;5;124mfrom it, or add *mappable* to an Axes.\u001b[39m\u001b[38;5;124m'\u001b[39m)\n\u001b[1;32m   1220\u001b[0m     fig \u001b[38;5;241m=\u001b[39m (  \u001b[38;5;66;03m# Figure of first Axes; logic copied from make_axes.\u001b[39;00m\n\u001b[1;32m   1221\u001b[0m         [\u001b[38;5;241m*\u001b[39max\u001b[38;5;241m.\u001b[39mflat] \u001b[38;5;28;01mif\u001b[39;00m \u001b[38;5;28misinstance\u001b[39m(ax, np\u001b[38;5;241m.\u001b[39mndarray)\n\u001b[1;32m   1222\u001b[0m         \u001b[38;5;28;01melse\u001b[39;00m [\u001b[38;5;241m*\u001b[39max] \u001b[38;5;28;01mif\u001b[39;00m np\u001b[38;5;241m.\u001b[39miterable(ax)\n\u001b[1;32m   1223\u001b[0m         \u001b[38;5;28;01melse\u001b[39;00m [ax])[\u001b[38;5;241m0\u001b[39m]\u001b[38;5;241m.\u001b[39mfigure\n\u001b[1;32m   1224\u001b[0m     current_ax \u001b[38;5;241m=\u001b[39m fig\u001b[38;5;241m.\u001b[39mgca()\n",
            "\u001b[0;31mValueError\u001b[0m: Unable to determine Axes to steal space for Colorbar. Either provide the *cax* argument to use as the Axes for the Colorbar, provide the *ax* argument to steal space from it, or add *mappable* to an Axes."
          ]
        },
        {
          "data": {
            "image/png": "[encoded data removed]",
            "text/plain": [
              "<Figure size 640x480 with 1 Axes>"
            ]
          },
          "metadata": {},
          "output_type": "display_data"
        }
      ],
      "source": [
        "# Correlation between the episode length and the ratings\n",
        "x = df[[\"Duration_mins\"]]\n",
        "y = df[[\"Rating_IMDB\"]]\n",
        "c = df[\"Season\"]\n",
        "plt.scatter(x, y, c=c)\n",
        "\n",
        "# Add labels to the axes\n",
        "plt.xlabel(\"Duration (mins)\")\n",
        "plt.ylabel(\"IMDB Rating\")\n",
        "\n",
        "# Set the limit for x axis\n",
        "plt.xlim(40, 62.5)\n",
        "\n",
        "# How many colors are needed\n",
        "cmap = plt.get_cmap('viridis', np.max(c) - np.min(c) + 1)\n",
        "# Min and max values for the color bar\n",
        "norm = mpl.colors.Normalize(vmin=np.min(c) - 0.5, vmax=np.max(c) + 0.5)\n",
        "\n",
        "# Colorbar to assign colors \n",
        "plt.colorbar(mpl.cm.ScalarMappable(norm=norm, cmap=cmap), label=\"Season\")\n",
        "plt.title(\"Correlation between Ratings and Duration of the Episodes\")\n",
        "\n",
        "plt.show()"
      ]
    },
    {
      "cell_type": "markdown",
      "metadata": {},
      "source": [
        "## Conclusion\n",
        "Breaking Bad consistently garnered high ratings across its episodes, with most falling between 9.0 and 9.34 on IMDb. The top-rated episodes like Ozymandias and Felina achieved near-perfect scores, underscoring their impact on viewers. While seasons 1, 2, and 5 showed steady and consistent ratings, seasons 3 and 4 exhibited greater variability, indicating that they had both exceptional and more moderately received episodes. Overall, the series maintained a high standard, with ratings generally improving as the storyline progressed."
      ]
    }
  ],
  "metadata": {
    "kernelspec": {
      "display_name": "Python 3",
      "language": "python",
      "name": "python3"
    },
    "language_info": {
      "codemirror_mode": {
        "name": "ipython",
        "version": 3
      },
      "file_extension": ".py",
      "mimetype": "text/x-python",
      "name": "python",
      "nbconvert_exporter": "python",
      "pygments_lexer": "ipython3",
      "version": "3.11.10"
    }
  },
  "nbformat": 4,
  "nbformat_minor": 4
}
